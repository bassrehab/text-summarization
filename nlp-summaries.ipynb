{
 "cells": [
  {
   "cell_type": "code",
   "execution_count": null,
   "id": "63010455",
   "metadata": {},
   "outputs": [],
   "source": [
    "!pip install --upgrade transformers==4.5.1\n",
    "!pip install --upgrade spacy==3.0.5\n",
    "!pip install --upgrade spacy-legacy==3.0.2\n",
    "!pip install --upgrade spacytextblob==3.0\n",
    "!pip install --upgrade PyPDF2==1.26.0\n",
    "!pip install --upgrade nltk==3.6.2\n",
    "# !conda install -c conda-forge sentencepiece"
   ]
  },
  {
   "cell_type": "code",
   "execution_count": null,
   "id": "d75ee60b",
   "metadata": {},
   "outputs": [],
   "source": [
    "# Pandas\n",
    "import pandas as pd\n",
    "\n",
    "# Import dependencies\n",
    "from PyPDF2 import PdfFileReader\n",
    "\n",
    "# spaCY for NLP\n",
    "import spacy\n",
    "from spacy.lang.en.stop_words import STOP_WORDS\n",
    "from string import punctuation\n",
    "\n",
    "# Import Heapq \n",
    "from heapq import nlargest\n",
    "\n",
    "# Import HuggingFace Transformer\n",
    "from transformers import pipeline\n",
    "\n",
    "\n",
    "# Import Google's T5 Model Transformer\n",
    "from transformers import TFAutoModelWithLMHead, AutoTokenizer\n",
    "\n",
    "\n",
    "# NLTK for splitting sentences\n",
    "import nltk.data\n",
    "\n",
    "#textblob\n",
    "from textblob import TextBlob\n",
    "\n",
    "\n",
    "# Incompatabilties with spaCy 3.0\n",
    "from spacytextblob.spacytextblob import SpacyTextBlob\n",
    "\n",
    "\n",
    "#Regex\n",
    "import re\n",
    "\n",
    "# Pretty Print\n",
    "import pprint\n",
    "\n",
    "\n",
    "import torch\n",
    "\n",
    "# import sentencepiece"
   ]
  },
  {
   "cell_type": "markdown",
   "id": "18018b54",
   "metadata": {},
   "source": [
    "# Extract PDF Files"
   ]
  },
  {
   "cell_type": "code",
   "execution_count": 27,
   "id": "9ef21c3c",
   "metadata": {},
   "outputs": [],
   "source": [
    "from PyPDF2 import PdfFileReader"
   ]
  },
  {
   "cell_type": "markdown",
   "id": "c89a2034",
   "metadata": {},
   "source": [
    "## Write both the files\n",
    "Henceforth in this notebook, \n",
    "accenture subscript is referred to 'Accenture-Disability-Inclusion-Research-Report.pdf'\n",
    "bsr subscript is referred to 'BSR_Financial_Needs_of_Garment_Workers_in_India.pdf'"
   ]
  },
  {
   "cell_type": "code",
   "execution_count": 28,
   "id": "f42fc1f7",
   "metadata": {},
   "outputs": [],
   "source": [
    "pdf_path_accenture='data/Accenture-Disability-Inclusion-Research-Report.pdf'\n",
    "pdf_accenture = PdfFileReader(str(pdf_path_accenture))"
   ]
  },
  {
   "cell_type": "code",
   "execution_count": 29,
   "id": "fa99c9ba",
   "metadata": {},
   "outputs": [],
   "source": [
    "pdf_path_bsr='data/BSR_Financial_Needs_of_Garment_Workers_in_India.pdf'\n",
    "pdf_bsr = PdfFileReader(str(pdf_path_bsr))"
   ]
  },
  {
   "cell_type": "code",
   "execution_count": 30,
   "id": "d7ab9870",
   "metadata": {},
   "outputs": [
    {
     "name": "stdout",
     "output_type": "stream",
     "text": [
      "17\n"
     ]
    }
   ],
   "source": [
    "# total num of pages in PDF Accenture\n",
    "print(pdf_accenture.numPages)"
   ]
  },
  {
   "cell_type": "code",
   "execution_count": 31,
   "id": "4c96fa9a",
   "metadata": {},
   "outputs": [
    {
     "name": "stdout",
     "output_type": "stream",
     "text": [
      "38\n"
     ]
    }
   ],
   "source": [
    "# total num of pages in PDF bsr\n",
    "print(pdf_bsr.numPages)"
   ]
  },
  {
   "cell_type": "code",
   "execution_count": 32,
   "id": "5a8c47a0",
   "metadata": {},
   "outputs": [
    {
     "data": {
      "text/plain": [
       "'5Accenture™s internal disability champions network of more than 16,000 employees \\nworldwide helps colleagues feel included at work.\\nA Market Worth Targeting\\n\\nwith disabilities as the third-largest market segment in the U.S., after \\n\\nHispanics and African-Americans. The discretionary income for working-\\n\\n\\n\\nAfrican-American and Hispanic segments combined.\\n22 A hidden market: The purchasing power of working-age adults with disabilities, American Institutes for Research, April, 2018\\n'"
      ]
     },
     "execution_count": 32,
     "metadata": {},
     "output_type": "execute_result"
    }
   ],
   "source": [
    "# Get 5th Page. PDF is 0-indexed, so 5th page is at 4th index\n",
    "pdf_accenture.getPage(4).extractText()"
   ]
  },
  {
   "cell_type": "code",
   "execution_count": 33,
   "id": "b069ba3d",
   "metadata": {},
   "outputs": [
    {
     "data": {
      "text/plain": [
       "'Financial Inclusion for Women\\n I Introduction I \\n8The effect of these changes has been mixed. On one hand, bank account \\nownership increased to 63 percent from 52 percent of all adults between \\n\\n2014 and 2015, and the proportion of Indian women with individual accounts \\n\\nin formal ˜nancial institutions reached 61 percent in 2015, an increase from \\n48 percent in 2014.\\n17 Unfortunately, there is a gender gap in account usage \\nas Indian women still lag behind by eight percentage points in account \\nownership, and fewer than four out of 10 Indian women actively use their \\nbank accounts.\\n18 Adding insult to injury, just a year after demonetization, 99 \\npercent of the banned high value notes were returned to the banking system, \\n\\nand cash use rose to the levels they were at before demonetization.\\n19These outcomes could be attributed to the fact that government initiatives \\nto encourage cashless payments did not incorporate ˜nancial education, \\n\\nthe targets for opening bank accounts were set for households instead of \\nindividual accounts for women, and that current policies are gender-neutral.\\n20 Coupled to that, Indian adults lack awareness of mobile money, have low \\nSIM-card ownership, and don™t have strong incentives to use cashless modes \\nof payments since most merchants don™t accept them.\\n21 To achieve true \\n˜nancial inclusion of women, efforts must move beyond access-oriented \\nmeasures to focus on actual usage of ˜nancial products and services by the \\n\\nunderbanked women to whom they are supposed to cater. Our research \\n\\nindicates that a combination of awareness and training, efforts to increase \\n\\nmerchant acceptance, and the introduction of new products that meet \\n\\nwomen worker™s needs better meet advance women™s use of mobile ˜nancial \\n\\nproducts as well. \\n'"
      ]
     },
     "execution_count": 33,
     "metadata": {},
     "output_type": "execute_result"
    }
   ],
   "source": [
    "# Get 12th Page from BSR PDF. \n",
    "pdf_bsr.getPage(11).extractText()"
   ]
  },
  {
   "cell_type": "markdown",
   "id": "460427f1",
   "metadata": {},
   "source": [
    "Read and Extract the PDF\n",
    "------------------------"
   ]
  },
  {
   "cell_type": "code",
   "execution_count": 35,
   "id": "b903e254",
   "metadata": {},
   "outputs": [],
   "source": [
    "def write_pdf_extract(out_filename, pdf):\n",
    "    with open(out_filename,mode=\"w\") as output_file:\n",
    "        for page in pdf.pages:\n",
    "            text = page.extractText()\n",
    "\n",
    "            output_file.write(text)"
   ]
  },
  {
   "cell_type": "code",
   "execution_count": 36,
   "id": "072065e2",
   "metadata": {},
   "outputs": [],
   "source": [
    "write_pdf_extract('data/extract-accenture.txt', pdf_accenture)\n",
    "write_pdf_extract('data/extract-bsr.txt', pdf_bsr)"
   ]
  },
  {
   "cell_type": "markdown",
   "id": "bba152dd",
   "metadata": {},
   "source": [
    "Clean Text\n",
    "----------"
   ]
  },
  {
   "cell_type": "code",
   "execution_count": 37,
   "id": "e3a107e3",
   "metadata": {},
   "outputs": [],
   "source": [
    "import re\n",
    "\n",
    "def clean_text(filename, isFile = True):\n",
    "    if isFile:\n",
    "        fp = open(filename)\n",
    "        data = fp.read().replace('\\n', '')\n",
    "    else:\n",
    "        data = filename\n",
    "        \n",
    "    return re.sub(r\"([0-9]+(\\.[0-9]+)?)\",r\" \\1 \", data).strip()"
   ]
  },
  {
   "cell_type": "markdown",
   "id": "f4d09108",
   "metadata": {},
   "source": [
    "Google T5 Model\n",
    "---------------"
   ]
  },
  {
   "cell_type": "code",
   "execution_count": 38,
   "id": "82589cf4",
   "metadata": {},
   "outputs": [],
   "source": [
    "from transformers import TFAutoModelWithLMHead, AutoTokenizer"
   ]
  },
  {
   "cell_type": "code",
   "execution_count": 39,
   "id": "25405269",
   "metadata": {},
   "outputs": [
    {
     "name": "stderr",
     "output_type": "stream",
     "text": [
      "FutureWarning: The class `TFAutoModelWithLMHead` is deprecated and will be removed in a future version. Please use `TFAutoModelForCausalLM` for causal language models, `TFAutoModelForMaskedLM` for masked language models and `TFAutoModelForSeq2SeqLM` for encoder-decoder models. [modeling_tf_auto.py:533]\n",
      "All model checkpoint layers were used when initializing TFT5ForConditionalGeneration.\n",
      "\n",
      "All the layers of TFT5ForConditionalGeneration were initialized from the model checkpoint at t5-base.\n",
      "If your task is similar to the task the model of the checkpoint was trained on, you can already use TFT5ForConditionalGeneration for predictions without further training.\n"
     ]
    }
   ],
   "source": [
    "model = TFAutoModelWithLMHead.from_pretrained(\"t5-base\")\n",
    "tokenizer = AutoTokenizer.from_pretrained(\"t5-base\")"
   ]
  },
  {
   "cell_type": "markdown",
   "id": "7ecc43a2",
   "metadata": {},
   "source": [
    "## Full Text Summary with Google T5"
   ]
  },
  {
   "cell_type": "markdown",
   "id": "4dcc4c3c",
   "metadata": {},
   "source": [
    "#### Accenture"
   ]
  },
  {
   "cell_type": "code",
   "execution_count": 43,
   "id": "454f5280",
   "metadata": {},
   "outputs": [
    {
     "name": "stdout",
     "output_type": "stream",
     "text": [
      "leading companies are accelerating disability inclusion as the next frontier of corporate social responsibility and mission-driven investing. only 29 percent of Americans of working age with disabilities participated in the workforce, compared with 75 percent of Americans without a disability.\n"
     ]
    }
   ],
   "source": [
    "full_text_doc = clean_text(\"./data/extract-accenture.txt\")\n",
    "# T5 uses a max_length of 512 so we cut the article to 512 tokens.\n",
    "inputs = tokenizer.encode(\"summarize: \" + full_text_doc, return_tensors=\"tf\", max_length=512)\n",
    "outputs = model.generate(inputs, max_length=250, min_length=40, length_penalty=2.0, num_beams=4, early_stopping=True)\n",
    "# Decoding and printing summary\n",
    "\n",
    "GT5_summary=tokenizer.decode(outputs[0], skip_special_tokens=True)\n",
    "print(GT5_summary)"
   ]
  },
  {
   "cell_type": "markdown",
   "id": "3f6eda9e",
   "metadata": {},
   "source": [
    "#### BSR"
   ]
  },
  {
   "cell_type": "code",
   "execution_count": 44,
   "id": "40d7746d",
   "metadata": {},
   "outputs": [
    {
     "name": "stdout",
     "output_type": "stream",
     "text": [
      "report examines opportunity to expand nancial inclusion for women in india's garment sector. mobile nancial services provide several bene ts that can increase women's use of formal nancial services.\n"
     ]
    }
   ],
   "source": [
    "full_text_doc = clean_text(\"./data/extract-bsr.txt\")\n",
    "# T5 uses a max_length of 512 so we cut the article to 512 tokens.\n",
    "inputs = tokenizer.encode(\"summarize: \" + full_text_doc, return_tensors=\"tf\", max_length=512)\n",
    "outputs = model.generate(inputs, max_length=250, min_length=40, length_penalty=2.0, num_beams=4, early_stopping=True)\n",
    "# Decoding and printing summary\n",
    "\n",
    "GT5_summary=tokenizer.decode(outputs[0], skip_special_tokens=True)\n",
    "print(GT5_summary)"
   ]
  },
  {
   "cell_type": "code",
   "execution_count": 19,
   "id": "3d9d79d0",
   "metadata": {
    "collapsed": true,
    "jupyter": {
     "outputs_hidden": true
    }
   },
   "outputs": [
    {
     "name": "stdout",
     "output_type": "stream",
     "text": [
      "Original: GETTING TO EQUAL:THE DISABILITY INCLUSION ADVANTAGEA research report produced jointly by 2 ﬁPersons with disabilities present business and industry with unique opportunities in labor-force diversity and corporate culture, and they™re a large consumer market eager to know which businesses authentically support their goals and dreams. Leading companies are accelerating disability inclusion as the next frontier of corporate social responsibility and mission-driven investing.ﬂŒ  Ted Kennedy, Jr.,  Disabilities Rights Attorney, Connecticut State Senator and Board Chair, American Association of People with Disabilities 3 Introductiona critical talent pool? At a time when there are more job openings in the U.S. than workers, you™d want to know more, wouldn™t you?New research from Accenture, in partnership with Disability:IN and the American Association of People with Disabilities (AAPD), reveals that companies that embrace best practices for employing and supporting more persons with disabilities in their workforce have outperformed their peers.In large part, companies haven™t leveraged the talents of persons with disabilities for three reasons:Ł  A lack of understanding of the scope of the talent available;Ł  Misconceptions about the cost versus the ROI of disability inclusion.But leading companies that are working successfully toward disabilitythe research shows that leading companies were, on average, twice as likely to have higher total shareholder returns than those of their peer group. 4 A Vast, Untapped MarketDespite the strength of the U.S. labor market, persons with disabilities 1  are strikingly under-employed. As of July  2018 , only  29  percent of Americans of working age (between ages  16  and  64 ) with disabilities participated in the workforce, compared with  75  percent of Americans without a disability. In  2017 , the unemployment rate for persons with disabilities was more than percent versus  4.2  percent.  There are  15.1  million people of working age living with disabilities in the U.S., so the research suggests that if companies embrace disability inclusion, they will gain access to a new talent pool of more than  10.7  million people. strengthen our businesses and our economy. According to other research cited within this report, employees with disabilities innovation, improved productivity and a better work environment. And, of course, workers are consumers, too. The GDP could get a boost up to $ 25  billion if just  1  percent more of persons with disabilities joined the U.S. labor force.The good news, according to our analysis, employing persons with disabilities and initiating and developing their disability inclusion programs.Figure  1 : A Wide Employment GapPersons with disabilities are much less likely to be employed.Population (between ages  16  and  64 ) by labor-force status and disability status, July  20180 % 10 % 20 % 30 % 40 % 50 % 60 % 70 % 80 % 90 % 100 %EmployedDisabilityNo DisabilityUnemployedNot in Workforce 68 % 29 % 3 % 22 % 75 % 3 %Source: Accenture analysis based on data from the Bureau of Labor Statistics, July  20181 that substantially limits one or more major life activities; has a record of such an impairment; or is regarded as having such an impairment. The ADA was amended in  2008  and became effective January  1 ,  2009 . The ADAAA requires a broader interpretation of disability by schools, testing agencies and employers than the original law.  5 Accenture™s internal disability champions network of more than  16 , 000  employees worldwide helps colleagues feel included at work.A Market Worth Targetingwith disabilities as the third-largest market segment in the U.S., after Hispanics and African-Americans. The discretionary income for working-African-American and Hispanic segments combined. 22  A hidden market: The purchasing power of working-age adults with disabilities, American Institutes for Research, April,  20186 Disability Inclusion and the Bottom Linethe past four years to unearth best-in-elite group of  45  companies that excelled in these key categories, which we are calling Disability Inclusion Champions (or ﬁChampionsﬂ). They make up  32  percent of the  140  U.S. companies that are part of this study. (See ﬁAbout the Researchﬂ for more details.)Our analysis focused on two important margin). other companies in the sample, performing achieved Œ on average Œ  28  percent higher revenue, double the net income and  30   3  over  05101520253530 N= 140  (unique respondents to DEI survey  2015 - 2018 ) 10 - 2020 - 3030 - 4040 - 5050 - 6070 - 8080 - 9090 - 100 Number of CompaniesDisability InclusionChampionsFigure  2 :  A Deep Dive into the DEIA newDisability Inclusion Champions for their unique leadership in disability inclusion.The Disability Equality Index Disability:IN, in partnership with the American Association for People with Disabilities, produces the Disability benchmarking tool that gives U.S. businesses an objective score on their disability inclusion policies and practices. It measures and weighs a wide range of criteria across key best practice categories: culture and leadership; community engagement and support service; employment practices; enterprise-wide access and supplier diversity (not included in this analysis). Companies with annual revenues of the total sample averaging $ 43  billion.  3   7 $ 0 $ 10 $ 20 $ 30 $ 40 $ 50 $ 60 ChampionsRevenueUS$ (Billion)Others$ 50 + 28 %$ 39 $ 0 $ 1.0 $ 2.0 $ 3.0 $ 4.0 $ 5.0 $ 6.0 ChampionsNet IncomeUS$ (Billion)Others$ 5.72 x$ 2.70 % 2 % 4 % 6 % 10 % 8 % 14 % 18 % 16 % 12 %ChampionsEconomic Profit MarginPercentageOthers 16 %+ 30 % 12 %account for temporal and industry variation; see Appendix for more detail on methodology.Moreover, Disability Inclusion Champions were, on average, two times more likely to outperform their peers in terms of total shareholder returns compared with the rest of the sample.Champion, strengthening its commitment to persons with disabilities makes a difference:  2 xChampions were twice as likelyas others to have higher total shareholder returns than those of their peer groupAccenture research shows that companies time (ﬁImproversﬂ 4 ) were four times more likely to have total shareholder returns that outperform their peers, compared to non-improvers. On average, Improvers™ total shareholders returns outperform industry peers 5  by  53  percent, while other companies outperform their peers by only  4  percent. 4 xCompanies that have improved theirinclusion of persons with disabilities overtime were four times more likely than others to have total shareholder returnsthat outperform those of their peer group 4   number of points they could gain to reach  100.5    8 What™s Holding Companies Back?  disability initiatives. While many are concerned about the costs of accommodating persons with disabilities, these are actually minimal and fruitful investments.According to employers participating in a recent study by Job Accommodation Network, a service from the U.S. Department of ( 59  percent) of accommodations cost absolutely nothing to make, while the rest typically cost only $ 500  per employee with a disability. 6  quantitative business case for robust disability inclusion programs. If we make companies aware of the potential gains, share success stories and demonstrate how to build these programs, we can quickly get more persons with disabilities into the workforce, where they can thrive. ﬁDeafness is just a way of life, a lifestyle. I tell my colleagues all the time, just because someone has a disability, it doesn™t prevent them from delivering great work.ﬂ   6  https://askjan.org/topics/costs.cfm 9 ﬁBeing honest about where you inclusive company. Accountability and creating an environment of trust where employees feel comfortable self-identifying as having a disability are true measures of inclusion.ﬂ Œ   Chad Jerdee, Persons with Disabilities Sponsor, Accenture  10 How can companies build an inclusive The Four Key Actionsparticipating companies reveal four key actions for attracting, hiring, retaining and advancing diverse talent.  1 EmployOdisabilities are represented in their workplace. Beyond hiring, employers should implement practices that encourage and progress persons with disabilities.Recruiting in Fresh WaysﬁIn the case of people with autism, the knowledge base and technical aptitude of individuals can be why we weren™t placing them. interview process. We changed our approach to what the process should look like. Now we work with a local group to bring candidates in for a week-long academy. We offer team work and technical exercises, and a lot of training. At the end of the week, we have an idea of those who will receive a job offer.ﬂ Microsoft 2 EnableLeaders must provide employees with disabilities with accessible tools andtechnology and/or a formal accommodations program. Consider cultivating greater awareness through formal training programs for those without disabilities to learn about the tools and accomodations available for better integration across teams. Making it WorkﬁWe have a support services team that is made up of  300  people with intellectual disabilities. They work in four different locations in the external client engagement. That helps the individual, the community, and us. They service all customers Œ those with and without disabilities; both internal and external.ﬂŒ Wil Lewis,SVP of Diversity and Inclusion, Bank of America 113 EngageTo foster an inclusive culture throughout awareness-building through recruitment efforts, disability education programs and grass-roots-led efforts (for example, an employee resource group) and events.Building the Pipelinethe National Wheelchair Basketball Association. Their youth tournaments are a blast! But we are there for more than the fun. The events allow us to talk to youth about what it means to work at T-Mobile. These conversations are pivotal because many of these kids have never considered that they have an option for an independent life. My favorite part is seeing their self-that comes from these events.ﬂŒ  Bri Sambo,  Senior Program Manager,  4 EmpowerCompanies must offer mentoring and coaching initiatives, as well as skilling/re-skilling programs, to ensure that persons with disabilities continue to grow and succeed.  Persons with disabilities should occupy roles at all levels, including top leadership positions.Getting the BestﬁPeople with disabilities tend to be some of the most creative, innovative and, quite frankly, most loyal employees. A person with a disability wakes up every day thinking about being innovative Œ that is a skill set. That ability to problem solve is innate to them. Our training programs quickly went from philanthropy to skill search.ﬂŒ David Casey, CVS Health 12 Beyond Revenue: A large body of previous research shows that disability six key areas of ﬁinclusion incentives.ﬂIncreased InnovationPersons with disabilities have to be creative to adapt to the world around them. As such, they develop strengths such as problem-solving skills, agility, persistence, forethought and a willingness to  7   Having employees with disabilities across departments helps ensure that the products and services that go to market are truly inclusive. And making things more accessible for persons with disabilities can for instance, home devices using natural voice recognition, driving sales and growth. 8  Improved Shareholder ValueBusinesses that hire persons with disabilities and foster inclusive  9   Regulators and the investor community increasingly monitor company culture and diversity. Disability inclusion is a key component of these metrics, and mandatory reporting on them will be enforced for some federal contractors starting in  2019.107 https://www.inc.com/sylvia-ann-hewlett/millennials-with-disabilities-a-large-invisible-talent-cohort-with-innovative-potential.html.    89     10   https://www.governmentcontractorcomplianceupdate.com/ 2018 / 08 / 14 /breaking-news-ofccp-issues-new-directive-ordering-focused-compliance-evaluations/ 13 Improved Productivityalongside employees with disabilities makes non-disabled individuals more aware of how to make the workplace more inclusive and better for everyone. community outreach program is in place. 11  Work environments that are more inclusive of persons with disabilities with disabilities is not as expensive or challenging as is often assumed. A DuPont employee survey found that when employees with disabilities are graded on the same scale as other employees,  90  percent of them receive performance ratings of ﬁaverageﬂ or above average.ﬂ 12   Access to the Supplier EcosystemBusiness leaders have discovered that a diverse supply base is a competitive advantage. 13  Hackett™s  2016  Supplier Diversity Study, for instance, found that companies allocating  20  percent or more of their spend to diverse suppliers attributed  10  to  15  percent of their annual sales to supplier diversity programs. According to the WeConnect report on global supplier diversity and inclusion, the advantages of inclusive sourcing are: Ł  Access to new suppliers, innovative solutions and cost savings through increased competition;Ł  Awareness of diverse customer needs, increased market share and shareholder value; andŁ  Brand enhancement and recruitment/retention of employers who want meaningful work.businesses. In addition to the ﬁset-asidesﬂ in federal contracts, disability-owned businesses are eligible for preferred purchase programs run by various state governments. 14   15    1112 https://medium.com/nga-economic-opportunity/an-untapped-talent-pool-the-opportunity-in-employing-people-with-disabiltiies- 77 be 9 f 76339 c  13 https://gbr.pepperdine.edu/ 2010 / 08 /supplier-diversity-and-competitive-advantage-new-opportunities-in-emerging-domestic-markets/  14 http://www.askearn.org/wp-content/uploads/docs/stateprocurement.pdf  1514 Improved Market Sharewith disabilities as the third-largest market segment in the U.S., after Hispanics and African-Americans. This market expands when family members, caregivers disabilities are counted. A study by the American Institutes for Research (April  2018 ) reveals that the total after-tax disposable income for working-age persons with disabilities is about $ 490  billion (compared with $ 582  billion for Hispanics and $ 501  billion for African Americans.) According to the Workplace Initiative  2017  report, targeted marketing efforts can expect an increase in patronage from persons with disabilities.Enhanced ReputationCompanies that adopt inclusive marketing and advertising efforts tend to stand out from the competition. A survey undertaken by the National Business and Disability Council in  2017  found that  66  percent of consumers will purchase goods and services from a business that features persons with disabilities in their advertising, while  78  percent will purchase goods and services from a business that takes steps to ensure easy access for individuals with disabilities at their physical locations. 16   A Nielsen study in  2016  found that persons with disabilities tend to be more brand loyal and also make more shopping trips and spend more per trip than the average consumer. 17   16  A hidden market: The purchasing power of working-age adults with disabilities, American Institutes for Research, April  2018 , 17   Reaching Prevalent, Diverse Consumers with Disabilities, Nielsen,  2016 , http://sites.nielsen.com/newscenter/measuring-impact-consumers-disabilities/ 15 The Next Frontier of Corporate Social Responsibilitytheir employees with disabilities has increased  40 -fold over the past four years. But there is still much work to be done. To unleash the trapped value within the persons-with-disabilities community, employee engagement and awareness surveys. Then, they should share the compelling business case for disability inclusion and implement the holistic obligation. They are excitedly embracing the advantages that come with employing more creative, industrious and well-rounded people. ﬁAs a single mom with a physical disability, I Now I have a job I love and can support my family. It has changed my life completely.ﬂ Œ  Ntombifuthi Dhlamini, employed through Leonard Cheshire Disability™s ﬁAccess to Livelihoodsﬂ program, supported by Accenture  16 About the ResearchThis research is based on approximately  140  unique respondents of the Disability industries but is limited to the U.S. market. We applied econometric models to public and proprietary data to identify:  1 .  The link between disability inclusion policies and business performance in terms of  2 . The relationship between disability workforce participation and GDP. PERSONS WITH DISABILITIESa disability as someone who has a physical or mental impairment that substantially limits one or more major life activities; has a record of such an impairment; or is regarded as having such an impairment. The ADA was amended in  2008  and became effective January  1 ,  2009 . The ADAAA requires a broader interpretation of disability by schools, testing agencies and employers than the original law. https://www.ada.gov CHAMPIONSAccenture Research assessed  140  leading disability-inclusive companies with select factors, activities and best practices in  45  of the  140  companies ( 32  percent). All However, the  45  ﬁDisability Inclusion Championsﬂ are those assessed as providing leading-edge disability programs and initiatives that can be potentially implemented by others. IMPROVERSparticipating companies. To quantify the effort in improving the disability-related policies, we introduce an ﬁimprovement score metricﬂ calculated as the ratio between the annual score change and the maximum number of points they could have gained percent of our own improvement score metric. PEER GROUPIn our TSR models, we compared survey respondents to the top  10  company peers as SIC code); ( 3 ) Amount of common equity analysts™ coverage; ( 4 ) Available information  17  About AccentureAccenture is a leading global professional services company, providing a broad range of services and solutions in strategy, consulting, digital, technology and operations. Combining unmatched experience and functions Œ underpinned by the world™s largest delivery network Œ Accenture works at the intersection of business and technology to help clients improve their performance and create sustainable value for their stakeholders. With  459 , 000  people serving clients in more than  120  countries, Accenture drives innovation to improve the way the world works and lives. Visit us at www.accenture.com. And for more on Accenture and inclusion, visit www.accenture.com/pwdAccenture ResearchAccenture Research shapes trends and creates data-driven insights power of innovative research techniques with a deep understanding of our clients™ industries, our team of  250  researchers and analysts spans  23  countries and publishes hundreds of reports, articles and points of view every year.guides our innovations and allows us to transform theories and fresh ideas into real-world solutions for our clients.www.accenture.com/researchAbout Our Partners Disability:IN, formerly known as the US Business Leadership Network, worldwide. Partnering with more than  160  corporations, Disability:IN expands opportunities for people with disabilities across enterprises. change for people with disabilities in business. Through its programs and services, Disability:IN empowers businesses to achieve disability inclusion and equality, with the goal of advancing inclusion to the point when the https://disabilityin.org/ The American Association of People with Disabilities (AAPD) is a convener, connector and catalyst for change, increasing the political and economic power of people with disabilities.\n",
      "\n",
      "\n",
      "Summarized T5:leading companies are accelerating disability inclusion as the next frontier of corporate social responsibility and mission-driven investing. only 29 percent of Americans of working age with disabilities participated in the workforce, compared with 75 percent of Americans without a disability.\n"
     ]
    }
   ],
   "source": [
    "summary_text_t5 = ''\n",
    "\n",
    "for ids in outputs:\n",
    "    summary_text_t5 += tokenizer.decode(ids, skip_special_tokens=True)\n",
    "print(\"\\n\\nSummarized T5:\" + summary_text_t5)"
   ]
  },
  {
   "cell_type": "markdown",
   "id": "4c215777",
   "metadata": {},
   "source": [
    "# Page-wise Summaries\n",
    "## Load Models (Google T5 ~ Base/Large, Google Pegasus, Facebook BART)\n"
   ]
  },
  {
   "cell_type": "markdown",
   "id": "5fe7fc4b",
   "metadata": {},
   "source": [
    "#### Load Google T5"
   ]
  },
  {
   "cell_type": "code",
   "execution_count": 46,
   "id": "ef5a56a5",
   "metadata": {},
   "outputs": [
    {
     "name": "stderr",
     "output_type": "stream",
     "text": [
      "All model checkpoint layers were used when initializing TFT5ForConditionalGeneration.\n",
      "\n",
      "All the layers of TFT5ForConditionalGeneration were initialized from the model checkpoint at t5-base.\n",
      "If your task is similar to the task the model of the checkpoint was trained on, you can already use TFT5ForConditionalGeneration for predictions without further training.\n",
      "All model checkpoint layers were used when initializing TFT5ForConditionalGeneration.\n",
      "\n",
      "All the layers of TFT5ForConditionalGeneration were initialized from the model checkpoint at t5-large.\n",
      "If your task is similar to the task the model of the checkpoint was trained on, you can already use TFT5ForConditionalGeneration for predictions without further training.\n"
     ]
    }
   ],
   "source": [
    "model_t5b = TFAutoModelWithLMHead.from_pretrained(\"t5-base\")\n",
    "tokenizer_t5b = AutoTokenizer.from_pretrained(\"t5-base\")\n",
    "\n",
    "model_t5l = TFAutoModelWithLMHead.from_pretrained(\"t5-large\")\n",
    "tokenizer_t5l = AutoTokenizer.from_pretrained(\"t5-large\")"
   ]
  },
  {
   "cell_type": "markdown",
   "id": "03c145c0",
   "metadata": {},
   "source": [
    "#### Google Pegasus (for abstractive summarization)"
   ]
  },
  {
   "cell_type": "code",
   "execution_count": 47,
   "id": "1382ef34",
   "metadata": {},
   "outputs": [],
   "source": [
    "from transformers import AutoTokenizer, AutoModelForSeq2SeqLM\n",
    "  \n",
    "tokenizer_pegasus = AutoTokenizer.from_pretrained(\"google/pegasus-xsum\")\n",
    "model_pegasus = AutoModelForSeq2SeqLM.from_pretrained(\"google/pegasus-xsum\")"
   ]
  },
  {
   "cell_type": "markdown",
   "id": "3445c2ef",
   "metadata": {},
   "source": [
    "#### Facebook BART"
   ]
  },
  {
   "cell_type": "code",
   "execution_count": null,
   "id": "e8ada958",
   "metadata": {},
   "outputs": [],
   "source": [
    "from transformers import AutoTokenizer, AutoModelForSeq2SeqLM\n",
    "\n",
    "tokenizer_bart = AutoTokenizer.from_pretrained(\"facebook/bart-large-cnn\")\n",
    "model_bart = AutoModelForSeq2SeqLM.from_pretrained(\"facebook/bart-large-cnn\")"
   ]
  },
  {
   "cell_type": "markdown",
   "id": "0ce98733",
   "metadata": {},
   "source": [
    "## Utility Functions"
   ]
  },
  {
   "cell_type": "code",
   "execution_count": 51,
   "id": "18c61133",
   "metadata": {},
   "outputs": [],
   "source": [
    "def write_to_file(out_filename, content):\n",
    "    f = open(out_filename, \"w\")\n",
    "    f.write(content)\n",
    "    f.close()"
   ]
  },
  {
   "cell_type": "code",
   "execution_count": 49,
   "id": "4628200b",
   "metadata": {},
   "outputs": [],
   "source": [
    "'''\n",
    "    Used mostly for Google T5 variants\n",
    "'''\n",
    "\n",
    "def do_summarization(in_filename, out_filename, model, tokenizer):\n",
    "    page_num = 0\n",
    "    content = ''\n",
    "    pdf = PdfFileReader(str(in_filename))\n",
    "    \n",
    "    content += \"Google T5 Summarization \\n \\nPDF Total Pages: \" + str(pdf.numPages)\n",
    "    \n",
    "    for page in pdf.pages:\n",
    "        page_num += 1\n",
    "        raw_text = page.extractText()\n",
    "        cleaned_page_text = clean_text(raw_text, False)\n",
    "\n",
    "        inputs = tokenizer.encode(\"summarize: \" + cleaned_page_text, return_tensors=\"tf\", max_length=512)\n",
    "        outputs = model.generate(inputs, max_length=250, min_length=40, length_penalty=2.0, num_beams=4, early_stopping=True)\n",
    "\n",
    "        GT5_summary=tokenizer.decode(outputs[0], skip_special_tokens=True)\n",
    "        content += \"\\n\\nSummary for Page No. \" + str(page_num) + \" [Original Length: \" + str(len(cleaned_page_text)) + \", Summary Length: \" + str(len(GT5_summary)) + \" ]\\n\"\n",
    "        content += \"\\n\" + GT5_summary\n",
    "        content += \"---------\"*5\n",
    "        \n",
    "    write_to_file(out_filename, content)"
   ]
  },
  {
   "cell_type": "code",
   "execution_count": 50,
   "id": "70681296",
   "metadata": {},
   "outputs": [
    {
     "name": "stderr",
     "output_type": "stream",
     "text": [
      "Truncation was not explicitly activated but `max_length` is provided a specific value, please use `truncation=True` to explicitly truncate examples to max length. Defaulting to 'longest_first' truncation strategy. If you encode pairs of sequences (GLUE-style) with the tokenizer you can select this strategy more precisely by providing a specific strategy to `truncation`.\n"
     ]
    }
   ],
   "source": [
    "# Google T5 Base\n",
    "do_summarization('data/Accenture-Disability-Inclusion-Research-Report.pdf', 'data/summary-google-t5-base-accenture.txt', model_t5b, tokenizer_t5b)"
   ]
  },
  {
   "cell_type": "code",
   "execution_count": 53,
   "id": "8dbc7d5e",
   "metadata": {},
   "outputs": [],
   "source": [
    "# Google T5 Base\n",
    "do_summarization('data/BSR_Financial_Needs_of_Garment_Workers_in_India.pdf', 'data/summary-google-t5-base-bsr.txt', model_t5b, tokenizer_t5b)"
   ]
  },
  {
   "cell_type": "code",
   "execution_count": null,
   "id": "5082f213",
   "metadata": {},
   "outputs": [],
   "source": [
    "# Google T5 Large\n",
    "do_summarization('data/Accenture-Disability-Inclusion-Research-Report.pdf', 'data/summary-google-t5-large-accenture.txt', model_t5l, tokenizer_t5l)"
   ]
  },
  {
   "cell_type": "code",
   "execution_count": null,
   "id": "c93b4aac",
   "metadata": {},
   "outputs": [],
   "source": [
    "# Google T5 Large\n",
    "do_summarization('data/BSR_Financial_Needs_of_Garment_Workers_in_India.pdf', 'data/summary-google-t5-large-bsr.txt', model_t5l, tokenizer_t5l)"
   ]
  },
  {
   "cell_type": "markdown",
   "id": "504b6c94",
   "metadata": {},
   "source": [
    "# Google Pegasus Full PDF Summary"
   ]
  },
  {
   "cell_type": "code",
   "execution_count": 6,
   "id": "4a18dbf5",
   "metadata": {},
   "outputs": [
    {
     "name": "stdout",
     "output_type": "stream",
     "text": [
      "Companies that embrace disability inclusion have outperformed their peers, according to research from Accenture, in partnership with Disability:IN and the American Association of People with Disabilities (AAPD).\n"
     ]
    }
   ],
   "source": [
    "# Use Google Pegasus for full PDF Summary for Accenture\n",
    "\n",
    "from transformers import PegasusForConditionalGeneration, PegasusTokenizer\n",
    "import torch\n",
    "\n",
    "src_text = [clean_text(\"./data/extract-accenture.txt\")]\n",
    "\n",
    "model_name = 'google/pegasus-xsum'\n",
    "device = 'cuda' if torch.cuda.is_available() else 'cpu'\n",
    "\n",
    "tokenizer = PegasusTokenizer.from_pretrained(model_name)\n",
    "model = PegasusForConditionalGeneration.from_pretrained(model_name).to(device)\n",
    "batch = tokenizer(src_text, truncation=True, padding='longest', return_tensors=\"pt\").to(device)\n",
    "translated = model.generate(**batch)\n",
    "tgt_text = tokenizer.batch_decode(translated, skip_special_tokens=True)\n",
    "print(tgt_text[0])"
   ]
  },
  {
   "cell_type": "code",
   "execution_count": 55,
   "id": "9bfe36af",
   "metadata": {},
   "outputs": [
    {
     "name": "stdout",
     "output_type": "stream",
     "text": [
      "Mobile nancial products and services have the potential to transform the lives of women in India.\n"
     ]
    }
   ],
   "source": [
    "# Use Google Pegasus for full PDF Summary for BSR\n",
    "\n",
    "from transformers import PegasusForConditionalGeneration, PegasusTokenizer\n",
    "import torch\n",
    "\n",
    "src_text = [clean_text(\"./data/extract-bsr.txt\")]\n",
    "\n",
    "model_name = 'google/pegasus-xsum'\n",
    "device = 'cuda' if torch.cuda.is_available() else 'cpu'\n",
    "\n",
    "tokenizer = PegasusTokenizer.from_pretrained(model_name)\n",
    "model = PegasusForConditionalGeneration.from_pretrained(model_name).to(device)\n",
    "batch = tokenizer(src_text, truncation=True, padding='longest', return_tensors=\"pt\").to(device)\n",
    "translated = model.generate(**batch)\n",
    "tgt_text = tokenizer.batch_decode(translated, skip_special_tokens=True)\n",
    "print(tgt_text[0])"
   ]
  },
  {
   "cell_type": "markdown",
   "id": "f78176d4",
   "metadata": {},
   "source": [
    "# Google Pegasus - Pagewise Summary"
   ]
  },
  {
   "cell_type": "code",
   "execution_count": 54,
   "id": "4454a308",
   "metadata": {},
   "outputs": [],
   "source": [
    "def do_summarization_pegasus(in_filename, out_filename):\n",
    "    \n",
    "    from transformers import PegasusForConditionalGeneration, PegasusTokenizer\n",
    "    import torch\n",
    "    from PyPDF2 import PdfFileReader\n",
    "\n",
    "    page_num = 0\n",
    "    content = ''\n",
    "    pdf = PdfFileReader(str(in_filename))\n",
    "    \n",
    "    content += \"Google Pegasus Summarization \\n \\nPDF Total Pages: \" + str(pdf.numPages)\n",
    "    \n",
    "    for page in pdf.pages:\n",
    "        page_num += 1\n",
    "        raw_text = page.extractText()\n",
    "        src_text = [clean_text(raw_text, False)]\n",
    "        \n",
    "        model_name = 'google/pegasus-xsum'\n",
    "        device = 'cuda' if torch.cuda.is_available() else 'cpu'\n",
    "\n",
    "        tokenizer = PegasusTokenizer.from_pretrained(model_name)\n",
    "        model = PegasusForConditionalGeneration.from_pretrained(model_name).to(device)\n",
    "        batch = tokenizer(src_text, truncation=True, padding='longest', return_tensors=\"pt\").to(device)\n",
    "        translated = model.generate(**batch)\n",
    "        tgt_text = tokenizer.batch_decode(translated, skip_special_tokens=True)\n",
    "        \n",
    "        content += \"\\n\\nSummary for Page No. \" + str(page_num) + \" [Original Length: \" + str(len(src_text[0])) + \", Summary Length: \" + str(len(tgt_text[0])) + \" ]\\n\"\n",
    "        content += \"\\n\" + tgt_text[0] + \"\\n\"\n",
    "        content += \"---------\"*5\n",
    "        \n",
    "    write_to_file(out_filename, content)"
   ]
  },
  {
   "cell_type": "code",
   "execution_count": 19,
   "id": "aaa1a5ea",
   "metadata": {},
   "outputs": [],
   "source": [
    "# Google Pegasus\n",
    "do_summarization_pegasus('data/Accenture-Disability-Inclusion-Research-Report.pdf', 'data/summary-google-pegasus-accenture.txt')"
   ]
  },
  {
   "cell_type": "code",
   "execution_count": 56,
   "id": "089af39a",
   "metadata": {},
   "outputs": [],
   "source": [
    "# Google Pegasus\n",
    "do_summarization_pegasus('data/BSR_Financial_Needs_of_Garment_Workers_in_India.pdf', 'data/summary-google-pegasus-bsr.txt')"
   ]
  },
  {
   "cell_type": "code",
   "execution_count": 57,
   "id": "732ccd64",
   "metadata": {},
   "outputs": [
    {
     "name": "stderr",
     "output_type": "stream",
     "text": [
      "Token indices sequence length is longer than the specified maximum sequence length for this model (4169 > 1024). Running this sequence through the model will result in indexing errors\n"
     ]
    },
    {
     "name": "stdout",
     "output_type": "stream",
     "text": [
      "Leading companies are accelerating disability inclusion as the next frontier of corporate social responsibility and mission-driven investing. There are 15.1 million people of working age living with disabilities in the U.S., so the research suggests that if companies embrace disability inclusion, they will gain access to a new talent pool of more than 10.7 million people.\n",
      "The Disability:IN benchmarking tool gives U.S. businesses an objective score on their disability inclusion policies and practices. Disability Inclusion Champions were, on average, two times more likely to outperform their peers in terms of total shareholder returns compared with the rest of the sample. While many are concerned about the costs of accommodating persons with disabilities, these are actually minimal and fruitful investments.\n",
      "People with disabilities tend to be some of the most creative, innovative and, quite frankly, most loyal employees. People with disabilities should occupy roles at all levels, including top leadership positions. Having employees with disabilities across departments helps ensure that the products and services that go to market are truly inclusive.\n",
      "Companies that adopt inclusive marketing and advertising efforts tend to stand out from the competition. According to the Workplace Initiative, targeted marketing efforts can expect an increase in patronage from persons with disabilities. The ADA was amended in 2008 and became effective January 1, 2009. The ADAAA requires a broader interpretation of disability by schools, testing agencies and employers.\n",
      "The American Association of People with Disabilities (AAPD) is a convener, connector and catalyst for change. Its programs and services, Disability:IN empowers businesses to achieve disability inclusion and equality, with the goal of advancing inclusion to the point when the https://disabilityin.org/\n"
     ]
    }
   ],
   "source": [
    "from transformers import BartTokenizer, BartForConditionalGeneration\n",
    "import torch\n",
    "\n",
    "long_text = clean_text(\"./data/extract-accenture.txt\")\n",
    "\n",
    "model = BartForConditionalGeneration.from_pretrained('facebook/bart-large-cnn')\n",
    "tokenizer = BartTokenizer.from_pretrained('facebook/bart-large-cnn')\n",
    "\n",
    "# tokenize without truncation\n",
    "inputs_no_trunc = tokenizer(long_text, max_length=None, return_tensors='pt', truncation=False)\n",
    "\n",
    "# get batches of tokens corresponding to the exact model_max_length\n",
    "chunk_start = 0\n",
    "chunk_end = tokenizer.model_max_length  # == 1024 for Bart\n",
    "inputs_batch_lst = []\n",
    "while chunk_start <= len(inputs_no_trunc['input_ids'][0]):\n",
    "    inputs_batch = inputs_no_trunc['input_ids'][0][chunk_start:chunk_end]  # get batch of n tokens\n",
    "    inputs_batch = torch.unsqueeze(inputs_batch, 0)\n",
    "    inputs_batch_lst.append(inputs_batch)\n",
    "    chunk_start += tokenizer.model_max_length  # == 1024 for Bart\n",
    "    chunk_end += tokenizer.model_max_length  # == 1024 for Bart\n",
    "\n",
    "# generate a summary on each batch\n",
    "summary_ids_lst = [model.generate(inputs, num_beams=4, max_length=100, early_stopping=True) for inputs in inputs_batch_lst]\n",
    "\n",
    "# decode the output and join into one string with one paragraph per summary batch\n",
    "summary_batch_lst = []\n",
    "for summary_id in summary_ids_lst:\n",
    "    summary_batch = [tokenizer.decode(g, skip_special_tokens=True, clean_up_tokenization_spaces=False) for g in summary_id]\n",
    "    summary_batch_lst.append(summary_batch[0])\n",
    "summary_all = '\\n'.join(summary_batch_lst)\n",
    "\n",
    "print(summary_all)"
   ]
  },
  {
   "cell_type": "markdown",
   "id": "748494e2",
   "metadata": {},
   "source": [
    "## Facebook BART - Pagewise Summary"
   ]
  },
  {
   "cell_type": "code",
   "execution_count": 58,
   "id": "e4fb9535",
   "metadata": {},
   "outputs": [],
   "source": [
    "def do_summarization_bart(in_extracted_filename, out_filename):\n",
    "    from transformers import BartTokenizer, BartForConditionalGeneration\n",
    "    import torch\n",
    "\n",
    "    long_text = clean_text(in_extracted_filename)\n",
    "\n",
    "    model = BartForConditionalGeneration.from_pretrained('facebook/bart-large-cnn')\n",
    "    tokenizer = BartTokenizer.from_pretrained('facebook/bart-large-cnn')\n",
    "\n",
    "    # tokenize without truncation\n",
    "    inputs_no_trunc = tokenizer(long_text, max_length=None, return_tensors='pt', truncation=False)\n",
    "\n",
    "    # get batches of tokens corresponding to the exact model_max_length\n",
    "    chunk_start = 0\n",
    "    chunk_end = tokenizer.model_max_length  # == 1024 for Bart\n",
    "    inputs_batch_lst = []\n",
    "    while chunk_start <= len(inputs_no_trunc['input_ids'][0]):\n",
    "        inputs_batch = inputs_no_trunc['input_ids'][0][chunk_start:chunk_end]  # get batch of n tokens\n",
    "        inputs_batch = torch.unsqueeze(inputs_batch, 0)\n",
    "        inputs_batch_lst.append(inputs_batch)\n",
    "        chunk_start += tokenizer.model_max_length  # == 1024 for Bart\n",
    "        chunk_end += tokenizer.model_max_length  # == 1024 for Bart\n",
    "\n",
    "    # generate a summary on each batch\n",
    "    summary_ids_lst = [model.generate(inputs, num_beams=4, max_length=100, early_stopping=True) for inputs in inputs_batch_lst]\n",
    "\n",
    "    # decode the output and join into one string with one paragraph per summary batch\n",
    "    summary_batch_lst = []\n",
    "    for summary_id in summary_ids_lst:\n",
    "        summary_batch = [tokenizer.decode(g, skip_special_tokens=True, clean_up_tokenization_spaces=False) for g in summary_id]\n",
    "        summary_batch_lst.append(summary_batch[0])\n",
    "    summary_all = '\\n'.join(summary_batch_lst)\n",
    "\n",
    "    print(summary_all)\n",
    "    \n",
    "    # write to file\n",
    "    write_to_file(out_filename, summary_all)"
   ]
  },
  {
   "cell_type": "code",
   "execution_count": 59,
   "id": "3c3e349f",
   "metadata": {},
   "outputs": [
    {
     "name": "stderr",
     "output_type": "stream",
     "text": [
      "Token indices sequence length is longer than the specified maximum sequence length for this model (4169 > 1024). Running this sequence through the model will result in indexing errors\n"
     ]
    },
    {
     "name": "stdout",
     "output_type": "stream",
     "text": [
      "Leading companies are accelerating disability inclusion as the next frontier of corporate social responsibility and mission-driven investing. There are 15.1 million people of working age living with disabilities in the U.S., so the research suggests that if companies embrace disability inclusion, they will gain access to a new talent pool of more than 10.7 million people.\n",
      "The Disability:IN benchmarking tool gives U.S. businesses an objective score on their disability inclusion policies and practices. Disability Inclusion Champions were, on average, two times more likely to outperform their peers in terms of total shareholder returns compared with the rest of the sample. While many are concerned about the costs of accommodating persons with disabilities, these are actually minimal and fruitful investments.\n",
      "People with disabilities tend to be some of the most creative, innovative and, quite frankly, most loyal employees. People with disabilities should occupy roles at all levels, including top leadership positions. Having employees with disabilities across departments helps ensure that the products and services that go to market are truly inclusive.\n",
      "Companies that adopt inclusive marketing and advertising efforts tend to stand out from the competition. According to the Workplace Initiative, targeted marketing efforts can expect an increase in patronage from persons with disabilities. The ADA was amended in 2008 and became effective January 1, 2009. The ADAAA requires a broader interpretation of disability by schools, testing agencies and employers.\n",
      "The American Association of People with Disabilities (AAPD) is a convener, connector and catalyst for change. Its programs and services, Disability:IN empowers businesses to achieve disability inclusion and equality, with the goal of advancing inclusion to the point when the https://disabilityin.org/\n"
     ]
    }
   ],
   "source": [
    "do_summarization_bart(\"./data/extract-accenture.txt\", 'data/summary-fb-bart-accenture.txt')"
   ]
  },
  {
   "cell_type": "code",
   "execution_count": 60,
   "id": "423086ae",
   "metadata": {},
   "outputs": [
    {
     "name": "stderr",
     "output_type": "stream",
     "text": [
      "Token indices sequence length is longer than the specified maximum sequence length for this model (19358 > 1024). Running this sequence through the model will result in indexing errors\n"
     ]
    },
    {
     "name": "stdout",
     "output_type": "stream",
     "text": [
      "Financial Inclusion for WomenExpanding Mobile Financial Servicesin India™s Garment SectorResearch ReportAbout this ReportThis report examines the opportunity to expand ˜nancial inclusion for women in India's garment sector by increasing women's use of mobile financial products and services. The report is based on a combination of desk-based literature review, and qualitative research sessions conducted in India by the HERproject team.\n",
      "More than 2 billion adults still do not use formal ˜nancial services such as deposit and savings accounts, payment services, loans, and insurance. In India, 58 percent of women owned at least one bank account as of 2015, but only 35 percent of these women were using that account, compared to  49 percent of men.\n",
      "India has the world's largest number of ˜nancially excluded women. 280 million women in India don't have access to formal ˜nancial services. 60 percent of Indian women have at least one bank account. Only 40 percent of women actively use a ˜ nancial services account of any kind.\n",
      "In India, only six in 10 women have a savings account in their own names. This means there are an estimated 280 million unbanked women. Recent changes in regulations and policy are addressing many of the barriers low-income women face in accessing and using mobile ˜nancial services.\n",
      "Indian women still lag behind by eight percentage points in account ownership. Fewer than four out of  10 Indian women actively use their bank accounts. Indian adults lack awareness of mobile money, have low SIM-card ownership, and don't have strong incentives to use cashless modes of payments since most merchants don't accept them.\n",
      "After agriculture, the garment and textiles industry is India™s second-largest employer. The readymade garment sector employs 12 million workers, mainly in urban and semi-urban clusters. The largest garment manufacturing centers are in Bengaluru (Karnataka), Tirupur and Chennai (Tamil Nadu), and the National Capital Region (NCR)\n",
      "This report reveals our ˜ndings to date, including the barriers and opportunities to increase the use of mobile ˜nancial services among female garment workers. We also analyze the potential of these products and services in meeting women™s needs. In addition to working six days a week in factories, women shoulder most of the responsibility for unpaid work with family.\n",
      "Workers often carry large sums of cash to make payments or to save at home. Women respondents told us that when they received cash wages, they were more likely to spend their money and less likely to save. Nearly all Indian adults have access to a mobile phone, either because they own one or because they borrow one from family and friends.\n",
      "Most women we interviewed followed traditional Indian gender roles that posit women administering the money (running errands and paying bills) and men deciding how to spend it. Most women working in garment factories struggle with reading and writing and have poor knowledge of English. Existing mobile money apps are not always available in local languages. Most merchants still don™t accept digital payments for large expenses.\n",
      "Currently, low-income women in India are underserved by traditional banks. The Reserve Bank of India allows mobile network operators and other associated companies to create Payments Banks. Payments Banks are allowed to offer the following products (accessible from a mobile phone): »Mobile payments (including remittances, bill payments, and payments to merchants) »Savings account with a balance of up to INR  100 , 000 (around US$ 1 , 500 ) generating interest.\n",
      "Payments Banks are developing networks of merchants that have speci˜c contracts with companies˛to accept these payment instruments. Customers can make cashless payments at these identi˜ed merchants at no charge by using mobile phones or debit cards provided by the banks. Women can use mobile payments to pay bills, send remittances, receive government bene˜ts, or recharge their phones without leaving their homes.\n",
      "Financial Inclusion for Women I Drivers, Barriers, and Opportunities I  22 ACCESSIBILITYAPPROPRIATENESSAFFORDABILITYCURRENT PLATFORMSPHONE REQUIREMENTSPHYSICALACCESSPOINTSMERCHANTS THAT ACCEPT CASHLESS PAYMENTSAVAILABLE LANGUAGESSERVICESOFFERED( AVAILableONLINE)\n",
      "Report: Mobile products are more convenient and safer for women to adopt. Research indicates that mobile products can provide a point of entry for low-income women to start using a full range of quality ˜nancial services. Report: It is important to understand and address the social and gender norms that contribute to current realities surrounding women and ˜ nancial services in India.\n",
      "Female garment workers lack awareness of mobile products, services, and technologies. Many women workers may be ˜rst-time users of mobile ˜nancial services. They also may have lower levels of literacy and numeracy. Digitizing wages makes business sense because it eliminates costs related to handling cash.\n",
      "Indian women are lagging behind Indian men in their use of formal ˜nancial services, especially those delivered through digital channels. The efforts to push for a digital India have been gender-neutral. To overcome the barriers inhibiting women, we need to understand what the challenges really are.\n",
      "Team up with Payments Banks to build use cases for garment workers. Measure uptake of mobile payments among garment workers and merchants. Measure the impact this has on women's use of other formal ˜nancial services. Measure women's perceptions and preferences in their use of mobile Payments versus cash.\n",
      "Financial Inclusion for Women I Appendix I  32 References 1 .  http://documents.worldbank.org/curated/en/ 187761468179367706. Pradhan Mantri Jan Dhan Yojana (PMJDY) is a program launched by the Indian government to bring formal ˜nancial services to all households in the country.\n",
      "China dominates the globalTextile-Apparel-exports-with- 40 -share- 1434619354. Formal employment generally refers to employment that is recognized by the government and therefore taxed and regulated and makes employees eligible for public bene˜ts. The Real Effects of Electronic Wage Payments (Upcoming)\n",
      "50 . Anand, Nupur.  2017 . ﬁIndia has a new bank designed speci˜cally for Indians afraid of banks, Quartz. 51 . Paytm gets ˜nal nod from RBI to launch payments bank, Hindustan Times. 52 . http://www.cgap.org/blog/why-women-self-help-group-members-make-good-bank-agents.\n"
     ]
    }
   ],
   "source": [
    "do_summarization_bart(\"./data/extract-bsr.txt\", 'data/summary-fb-bart-bsr.txt')"
   ]
  },
  {
   "cell_type": "markdown",
   "id": "704d4806",
   "metadata": {},
   "source": [
    "## Note: Pagewise Summaries with Facebook BART was not done."
   ]
  },
  {
   "cell_type": "code",
   "execution_count": null,
   "id": "fcc2a5af",
   "metadata": {},
   "outputs": [],
   "source": []
  }
 ],
 "metadata": {
  "environment": {
   "name": "tf2-gpu.2-3.m73",
   "type": "gcloud",
   "uri": "gcr.io/deeplearning-platform-release/tf2-gpu.2-3:m73"
  },
  "kernelspec": {
   "display_name": "Python [conda env:root] *",
   "language": "python",
   "name": "conda-root-py"
  },
  "language_info": {
   "codemirror_mode": {
    "name": "ipython",
    "version": 3
   },
   "file_extension": ".py",
   "mimetype": "text/x-python",
   "name": "python",
   "nbconvert_exporter": "python",
   "pygments_lexer": "ipython3",
   "version": "3.7.10"
  }
 },
 "nbformat": 4,
 "nbformat_minor": 5
}
